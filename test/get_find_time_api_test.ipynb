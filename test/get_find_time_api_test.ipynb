{
 "cells": [
  {
   "cell_type": "code",
   "execution_count": 1,
   "metadata": {},
   "outputs": [],
   "source": [
    "import sys\n",
    "import os\n",
    "\n",
    "sys.path.append(\"../src/iharp_query_executor/\")\n",
    "from get_find_time_api import GetFindTimeExecutor\n",
    "\n",
    "variable = \"2m_temperature\"\n",
    "start_datetime = \"2020-01-01 00:00:00\"\n",
    "end_datetime = \"2023-12-31 23:00:00\"\n",
    "temporal_resolution = \"year\"\n",
    "temporal_aggregation = \"mean\"\n",
    "# inbound area\n",
    "min_lat = 75.0 #84\n",
    "max_lat = 80.0 #59\n",
    "min_lon = -50.0 #-10\n",
    "max_lon = -25.0 #-74\n",
    "\n",
    "# Greenland, throws error \"Your request is too large\"\n",
    "# max_lat = 85.0\n",
    "# min_lat = 60.0\n",
    "# min_lon = -70.0\n",
    "# max_lon = -10.0\n",
    "\n",
    "spatial_resolution = 0.25\n",
    "spatial_aggregation = \"mean\"\n",
    "aggregation = \"max\"\n",
    "filter_predicate = \">\"\n",
    "filter_value = 263\n",
    "geojson_file = \"../data/tri.geojson\"\n"
   ]
  },
  {
   "cell_type": "code",
   "execution_count": 2,
   "metadata": {},
   "outputs": [
    {
     "name": "stderr",
     "output_type": "stream",
     "text": [
      "/home/eldah001/.local/lib/python3.10/site-packages/urllib3/connectionpool.py:1097: InsecureRequestWarning: Unverified HTTPS request is being made to host 'iharpv-dev.cs.umn.edu'. Adding certificate verification is strongly advised. See: https://urllib3.readthedocs.io/en/latest/advanced-usage.html#tls-warnings\n",
      "  warnings.warn(\n"
     ]
    },
    {
     "name": "stdout",
     "output_type": "stream",
     "text": [
      ">>> data is: <class 'xarray.core.dataset.Dataset'>\n",
      "<xarray.Dataset> Size: 44B\n",
      "Dimensions:     (valid_time: 4)\n",
      "Coordinates:\n",
      "    number      int64 8B 0\n",
      "  * valid_time  (valid_time) datetime64[ns] 32B 2020-12-31 ... 2023-12-31\n",
      "Data variables:\n",
      "    t2m         (valid_time) bool 4B True True True True\n",
      "<xarray.Dataset> Size: 44B\n",
      "Dimensions:     (valid_time: 4)\n",
      "Coordinates:\n",
      "    number      int64 8B 0\n",
      "  * valid_time  (valid_time) datetime64[ns] 32B 2020-12-31 ... 2023-12-31\n",
      "Data variables:\n",
      "    t2m         (valid_time) bool 4B True True True True\n"
     ]
    }
   ],
   "source": [
    "ft = GetFindTimeExecutor(\n",
    "    variable=variable,\n",
    "    start_datetime=start_datetime,\n",
    "    end_datetime=end_datetime,\n",
    "    temporal_resolution=temporal_resolution,\n",
    "    min_lat=min_lat,\n",
    "    max_lat=max_lat,\n",
    "    min_lon=min_lon,\n",
    "    max_lon=max_lon,\n",
    "    aggregation=aggregation,\n",
    "    filter_predicate=filter_predicate,\n",
    "    filter_value=filter_value\n",
    ")\n",
    "\n",
    "print(ft.execute())"
   ]
  }
 ],
 "metadata": {
  "kernelspec": {
   "display_name": "Python 3",
   "language": "python",
   "name": "python3"
  },
  "language_info": {
   "codemirror_mode": {
    "name": "ipython",
    "version": 3
   },
   "file_extension": ".py",
   "mimetype": "text/x-python",
   "name": "python",
   "nbconvert_exporter": "python",
   "pygments_lexer": "ipython3",
   "version": "3.10.12"
  },
  "orig_nbformat": 4
 },
 "nbformat": 4,
 "nbformat_minor": 2
}
