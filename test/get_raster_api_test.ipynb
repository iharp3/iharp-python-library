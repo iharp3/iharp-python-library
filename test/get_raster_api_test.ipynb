{
 "cells": [
  {
   "cell_type": "code",
   "execution_count": 1,
   "metadata": {},
   "outputs": [],
   "source": [
    "import sys\n",
    "import os\n",
    "\n",
    "sys.path.append(\"../src\")\n",
    "from get_raster_api import GetRasterExecutor\n",
    "\n",
    "variable = \"2m_temperature\"\n",
    "start_datetime = \"2023-01-01 00:00:00\"\n",
    "end_datetime = \"2023-12-31 23:00:00\"\n",
    "temporal_resolution = \"year\"\n",
    "temporal_aggregation = \"mean\"\n",
    "# inbound area\n",
    "max_lat = 84\n",
    "min_lat = 59\n",
    "min_lon = -10\n",
    "max_lon = -74\n",
    "\n",
    "spatial_resolution = 1\n",
    "spatial_aggregation = \"mean\"\n",
    "aggregation = \"max\"\n",
    "geojson_file = \"../data/tri.geojson\"\n"
   ]
  },
  {
   "cell_type": "code",
   "execution_count": 2,
   "metadata": {},
   "outputs": [
    {
     "name": "stdout",
     "output_type": "stream",
     "text": [
      "Response content: <xarray.Dataset> Size: 528B\n",
      "Dimensions:     (valid_time: 1, latitude: 0, longitude: 64)\n",
      "Coordinates:\n",
      "    number      int64 8B 0\n",
      "  * latitude    (latitude) float64 0B \n",
      "  * longitude   (longitude) float64 512B -73.62 -72.62 -71.62 ... -11.62 -10.62\n",
      "  * valid_time  (valid_time) datetime64[ns] 8B 2023-12-31\n",
      "Data variables:\n",
      "    t2m         (valid_time, latitude, longitude) float32 0B \n",
      "Attributes:\n",
      "    GRIB_centre:             ecmf\n",
      "    GRIB_centreDescription:  European Centre for Medium-Range Weather Forecasts\n",
      "    GRIB_subCentre:          0\n",
      "    Conventions:             CF-1.7\n",
      "    institution:             European Centre for Medium-Range Weather Forecasts\n",
      "    history:                 2025-03-06T19:22 GRIB to CDM+CF via cfgrib-0.9.1...\n",
      "Error: 201\n",
      "None\n"
     ]
    }
   ],
   "source": [
    "raster = GetRasterExecutor(\n",
    "    variable=variable,\n",
    "    start_datetime=start_datetime,\n",
    "    end_datetime=end_datetime,\n",
    "    temporal_resolution=temporal_resolution,\n",
    "    temporal_aggregation=temporal_aggregation,\n",
    "    min_lat=min_lat,\n",
    "    max_lat=max_lat,\n",
    "    min_lon=min_lon,\n",
    "    max_lon=max_lon,\n",
    "    spatial_resolution=spatial_resolution,\n",
    "    spatial_aggregation=spatial_aggregation,\n",
    "    aggregation=aggregation,\n",
    ")\n",
    "\n",
    "print(raster.execute())"
   ]
  }
 ],
 "metadata": {
  "kernelspec": {
   "display_name": "Python 3",
   "language": "python",
   "name": "python3"
  },
  "language_info": {
   "codemirror_mode": {
    "name": "ipython",
    "version": 3
   },
   "file_extension": ".py",
   "mimetype": "text/x-python",
   "name": "python",
   "nbconvert_exporter": "python",
   "pygments_lexer": "ipython3",
   "version": "3.10.12"
  },
  "orig_nbformat": 4
 },
 "nbformat": 4,
 "nbformat_minor": 2
}
