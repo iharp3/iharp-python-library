{
 "cells": [
  {
   "cell_type": "code",
   "execution_count": 1,
   "metadata": {},
   "outputs": [],
   "source": [
    "import sys\n",
    "import os\n",
    "\n",
    "sys.path.append(\"../src/iharp_query_executor/\")\n",
    "from get_geojson_executor import GeoJsonExecutor\n",
    "\n",
    "variable = \"2m_temperature\"\n",
    "start_datetime = \"2020-01-01 00:00:00\"\n",
    "end_datetime = \"2023-12-31 23:00:00\"\n",
    "temporal_resolution = \"year\"\n",
    "##temporal_aggregation = \"mean\"\n",
    "# inbound area\n",
    "min_lat = 75.0 #84\n",
    "max_lat = 80.0 #59\n",
    "min_lon = -50.0 #-10\n",
    "max_lon = -25.0 #-74\n",
    "\n",
    "spatial_resolution = 0.25\n",
    "spatial_aggregation = \"mean\"\n",
    "aggregation = \"max\"\n",
    "geojson_file = \"../data/tri.geojson\"\n"
   ]
  },
  {
   "cell_type": "code",
   "execution_count": 2,
   "metadata": {},
   "outputs": [
    {
     "name": "stdout",
     "output_type": "stream",
     "text": [
      "Longitude range: -50.0 to -25.0\n",
      "Latitude range: 75.0 to 80.0\n",
      ">>> data is: <class 'xarray.core.dataset.Dataset'>\n"
     ]
    },
    {
     "name": "stderr",
     "output_type": "stream",
     "text": [
      "/home/eldah001/.local/lib/python3.10/site-packages/urllib3/connectionpool.py:1097: InsecureRequestWarning: Unverified HTTPS request is being made to host 'iharpv-dev.cs.umn.edu'. Adding certificate verification is strongly advised. See: https://urllib3.readthedocs.io/en/latest/advanced-usage.html#tls-warnings\n",
      "  warnings.warn(\n"
     ]
    },
    {
     "name": "stdout",
     "output_type": "stream",
     "text": [
      "<xarray.Dataset> Size: 35kB\n",
      "Dimensions:     (valid_time: 4, latitude: 21, longitude: 101)\n",
      "Coordinates:\n",
      "    number      int64 8B 0\n",
      "  * latitude    (latitude) float64 168B 80.0 79.75 79.5 ... 75.5 75.25 75.0\n",
      "  * longitude   (longitude) float64 808B -50.0 -49.75 -49.5 ... -25.25 -25.0\n",
      "  * valid_time  (valid_time) datetime64[ns] 32B 2020-12-31 ... 2023-12-31\n",
      "Data variables:\n",
      "    t2m         (valid_time, latitude, longitude) float32 34kB 272.7 ... 277.6\n",
      "Attributes:\n",
      "    GRIB_centre:             ecmf\n",
      "    GRIB_centreDescription:  European Centre for Medium-Range Weather Forecasts\n",
      "    GRIB_subCentre:          0\n",
      "    Conventions:             CF-1.7\n",
      "    institution:             European Centre for Medium-Range Weather Forecasts\n",
      "    history:                 2025-03-06T19:22 GRIB to CDM+CF via cfgrib-0.9.1...\n",
      "Mask Succeeded: Reduced from 8484 to 3724 points\n",
      "<xarray.Dataset> Size: 35kB\n",
      "Dimensions:     (valid_time: 4, latitude: 21, longitude: 101)\n",
      "Coordinates:\n",
      "    number      int64 8B 0\n",
      "  * latitude    (latitude) float64 168B 80.0 79.75 79.5 ... 75.5 75.25 75.0\n",
      "  * longitude   (longitude) float64 808B -50.0 -49.75 -49.5 ... -25.25 -25.0\n",
      "  * valid_time  (valid_time) datetime64[ns] 32B 2020-12-31 ... 2023-12-31\n",
      "Data variables:\n",
      "    t2m         (valid_time, latitude, longitude) float32 34kB nan nan ... nan\n",
      "Attributes:\n",
      "    GRIB_centre:             ecmf\n",
      "    GRIB_centreDescription:  European Centre for Medium-Range Weather Forecasts\n",
      "    GRIB_subCentre:          0\n",
      "    Conventions:             CF-1.7\n",
      "    institution:             European Centre for Medium-Range Weather Forecasts\n",
      "    history:                 2025-03-06T19:22 GRIB to CDM+CF via cfgrib-0.9.1...\n"
     ]
    }
   ],
   "source": [
    "geojson = GeoJsonExecutor(\n",
    "    variable=variable,\n",
    "    start_datetime=start_datetime,\n",
    "    end_datetime=end_datetime,\n",
    "    temporal_resolution=temporal_resolution,\n",
    "    spatial_resolution=spatial_resolution,\n",
    "    aggregation=aggregation,\n",
    "    geojson_file=geojson_file\n",
    ")\n",
    "\n",
    "print(geojson.execute())"
   ]
  }
 ],
 "metadata": {
  "kernelspec": {
   "display_name": "Python 3",
   "language": "python",
   "name": "python3"
  },
  "language_info": {
   "codemirror_mode": {
    "name": "ipython",
    "version": 3
   },
   "file_extension": ".py",
   "mimetype": "text/x-python",
   "name": "python",
   "nbconvert_exporter": "python",
   "pygments_lexer": "ipython3",
   "version": "3.10.12"
  },
  "orig_nbformat": 4
 },
 "nbformat": 4,
 "nbformat_minor": 2
}
